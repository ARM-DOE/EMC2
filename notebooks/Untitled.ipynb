{
 "cells": [
  {
   "cell_type": "markdown",
   "metadata": {},
   "source": [
    "# EMC2 demo notebook"
   ]
  },
  {
   "cell_type": "code",
   "execution_count": 5,
   "metadata": {},
   "outputs": [
    {
     "name": "stdout",
     "output_type": "stream",
     "text": [
      "Populating the interactive namespace from numpy and matplotlib\n"
     ]
    }
   ],
   "source": [
    "import emc2\n",
    "import pdb\n",
    "import act\n",
    "%pylab inline"
   ]
  },
  {
   "cell_type": "code",
   "execution_count": 2,
   "metadata": {},
   "outputs": [],
   "source": [
    "model_path = '/nfs/gce/projects/digr/emc2_data/allvars.SCM_AWR_linft_BT0_unNa_noaer.nc'\n",
    "my_model = emc2.core.model.ModelE(model_path)"
   ]
  },
  {
   "cell_type": "code",
   "execution_count": 3,
   "metadata": {},
   "outputs": [
    {
     "data": {
      "text/html": [
       "<pre>&lt;xarray.Dataset&gt;\n",
       "Dimensions:    (plm: 63, time: 240)\n",
       "Coordinates:\n",
       "    lat        float32 -77.85\n",
       "    lon        float32 166.72\n",
       "  * time       (time) float64 0.25 0.75 1.25 1.75 ... 118.2 118.8 119.2 119.8\n",
       "  * plm        (plm) float32 995.0 985.0 975.0 965.0 ... 0.781 0.439 0.247 0.139\n",
       "Data variables:\n",
       "    QCImc      (plm, time) float32 ...\n",
       "    QCLmc      (plm, time) float32 ...\n",
       "    QPImc      (plm, time) float32 ...\n",
       "    QPLmc      (plm, time) float32 ...\n",
       "    axyp       float32 ...\n",
       "    cIWPss     (time) float32 ...\n",
       "    cLWPss     (time) float32 ...\n",
       "    cldmc      (plm, time) float32 ...\n",
       "    cldmc_2d   (time) float32 ...\n",
       "    cldmcci    (plm, time) float32 ...\n",
       "    cldmccl    (plm, time) float32 ...\n",
       "    cldmcpi    (plm, time) float32 ...\n",
       "    cldmcpl    (plm, time) float32 ...\n",
       "    cldss      (plm, time) float32 ...\n",
       "    cldss_2d   (time) float32 ...\n",
       "    cldssci    (plm, time) float32 ...\n",
       "    cldsscl    (plm, time) float32 ...\n",
       "    cldsspi    (plm, time) float32 ...\n",
       "    cldsspl    (plm, time) float32 ...\n",
       "    cldtot_2d  (time) float32 ...\n",
       "    dq_ls      (plm, time) float32 ...\n",
       "    dq_mc      (plm, time) float32 ...\n",
       "    dq_nudge   (plm, time) float32 ...\n",
       "    dq_ss      (plm, time) float32 ...\n",
       "    dq_turb    (plm, time) float32 ...\n",
       "    dth_ls     (plm, time) float32 ...\n",
       "    dth_lw     (plm, time) float32 ...\n",
       "    dth_mc     (plm, time) float32 ...\n",
       "    dth_nudge  (plm, time) float32 ...\n",
       "    dth_rad    (plm, time) float32 ...\n",
       "    dth_ss     (plm, time) float32 ...\n",
       "    dth_sw     (plm, time) float32 ...\n",
       "    dth_turb   (plm, time) float32 ...\n",
       "    e_turb     (plm, time) float32 ...\n",
       "    gtempr     (time) float32 ...\n",
       "    isccp_tau  (time) float32 ...\n",
       "    iwp        (time) float32 ...\n",
       "    kh_turb    (plm, time) float32 ...\n",
       "    km_turb    (plm, time) float32 ...\n",
       "    len_turb   (plm, time) float32 ...\n",
       "    lhflx      (time) float32 ...\n",
       "    lwdp       (plm, time) float32 ...\n",
       "    lwds       (time) float32 ...\n",
       "    lwdscs     (time) float32 ...\n",
       "    lwp        (time) float32 ...\n",
       "    lwup       (plm, time) float32 ...\n",
       "    lwus       (time) float32 ...\n",
       "    mcp        (time) float32 ...\n",
       "    nci        (plm, time) float32 ...\n",
       "    nciic      (plm, time) float32 ...\n",
       "    ncl        (plm, time) float32 ...\n",
       "    nclic      (plm, time) float32 ...\n",
       "    npi        (plm, time) float32 ...\n",
       "    npl        (plm, time) float32 ...\n",
       "    olrcs      (time) float32 ...\n",
       "    olrrad     (time) float32 ...\n",
       "    pIWPss     (time) float32 ...\n",
       "    pLWPss     (time) float32 ...\n",
       "    p_3d       (plm, time) float32 ...\n",
       "    p_surf     (time) float32 ...\n",
       "    pblht      (time) float32 ...\n",
       "    pblht_bp   (time) float32 ...\n",
       "    prec       (time) float32 ...\n",
       "    pwv        (time) float32 ...\n",
       "    q          (plm, time) float32 ...\n",
       "    qci        (plm, time) float32 ...\n",
       "    qcl        (plm, time) float32 ...\n",
       "    qpi        (plm, time) float32 ...\n",
       "    qpl        (plm, time) float32 ...\n",
       "    re_mcci    (plm, time) float32 ...\n",
       "    re_mccl    (plm, time) float32 ...\n",
       "    re_mcpi    (plm, time) float32 ...\n",
       "    re_mcpl    (plm, time) float32 ...\n",
       "    re_ssci    (plm, time) float32 ...\n",
       "    re_sscl    (plm, time) float32 ...\n",
       "    re_sspi    (plm, time) float32 ...\n",
       "    re_sspl    (plm, time) float32 ...\n",
       "    rhw        (plm, time) float32 ...\n",
       "    ri_turb    (plm, time) float32 ...\n",
       "    shflx      (time) float32 ...\n",
       "    ssp        (time) float32 ...\n",
       "    swdf       (time) float32 ...\n",
       "    swdp       (plm, time) float32 ...\n",
       "    swds       (time) float32 ...\n",
       "    swup       (plm, time) float32 ...\n",
       "    swus       (time) float32 ...\n",
       "    t          (plm, time) float32 ...\n",
       "    tau_mc     (plm, time) float32 ...\n",
       "    tau_ss     (plm, time) float32 ...\n",
       "    th         (plm, time) float32 ...\n",
       "    u          (plm, time) float32 ...\n",
       "    ustar      (time) float32 ...\n",
       "    v          (plm, time) float32 ...\n",
       "    z          (plm, time) float32 ...\n",
       "Attributes:\n",
       "    xlabel:                     SCM_AWR_linft_BT0_unNa_noaer SCM_AWARE (M-PAC...\n",
       "    history:                    Fri Sep  6 17:21:45 2019: ncks -A allsteps.si...\n",
       "    history_of_appended_files:  Fri Sep  6 17:21:45 2019: Appended file allst...\n",
       "    NCO:                        4.6.7</pre>"
      ],
      "text/plain": [
       "<xarray.Dataset>\n",
       "Dimensions:    (plm: 63, time: 240)\n",
       "Coordinates:\n",
       "    lat        float32 -77.85\n",
       "    lon        float32 166.72\n",
       "  * time       (time) float64 0.25 0.75 1.25 1.75 ... 118.2 118.8 119.2 119.8\n",
       "  * plm        (plm) float32 995.0 985.0 975.0 965.0 ... 0.781 0.439 0.247 0.139\n",
       "Data variables:\n",
       "    QCImc      (plm, time) float32 ...\n",
       "    QCLmc      (plm, time) float32 ...\n",
       "    QPImc      (plm, time) float32 ...\n",
       "    QPLmc      (plm, time) float32 ...\n",
       "    axyp       float32 ...\n",
       "    cIWPss     (time) float32 ...\n",
       "    cLWPss     (time) float32 ...\n",
       "    cldmc      (plm, time) float32 ...\n",
       "    cldmc_2d   (time) float32 ...\n",
       "    cldmcci    (plm, time) float32 ...\n",
       "    cldmccl    (plm, time) float32 ...\n",
       "    cldmcpi    (plm, time) float32 ...\n",
       "    cldmcpl    (plm, time) float32 ...\n",
       "    cldss      (plm, time) float32 ...\n",
       "    cldss_2d   (time) float32 ...\n",
       "    cldssci    (plm, time) float32 ...\n",
       "    cldsscl    (plm, time) float32 ...\n",
       "    cldsspi    (plm, time) float32 ...\n",
       "    cldsspl    (plm, time) float32 ...\n",
       "    cldtot_2d  (time) float32 ...\n",
       "    dq_ls      (plm, time) float32 ...\n",
       "    dq_mc      (plm, time) float32 ...\n",
       "    dq_nudge   (plm, time) float32 ...\n",
       "    dq_ss      (plm, time) float32 ...\n",
       "    dq_turb    (plm, time) float32 ...\n",
       "    dth_ls     (plm, time) float32 ...\n",
       "    dth_lw     (plm, time) float32 ...\n",
       "    dth_mc     (plm, time) float32 ...\n",
       "    dth_nudge  (plm, time) float32 ...\n",
       "    dth_rad    (plm, time) float32 ...\n",
       "    dth_ss     (plm, time) float32 ...\n",
       "    dth_sw     (plm, time) float32 ...\n",
       "    dth_turb   (plm, time) float32 ...\n",
       "    e_turb     (plm, time) float32 ...\n",
       "    gtempr     (time) float32 ...\n",
       "    isccp_tau  (time) float32 ...\n",
       "    iwp        (time) float32 ...\n",
       "    kh_turb    (plm, time) float32 ...\n",
       "    km_turb    (plm, time) float32 ...\n",
       "    len_turb   (plm, time) float32 ...\n",
       "    lhflx      (time) float32 ...\n",
       "    lwdp       (plm, time) float32 ...\n",
       "    lwds       (time) float32 ...\n",
       "    lwdscs     (time) float32 ...\n",
       "    lwp        (time) float32 ...\n",
       "    lwup       (plm, time) float32 ...\n",
       "    lwus       (time) float32 ...\n",
       "    mcp        (time) float32 ...\n",
       "    nci        (plm, time) float32 ...\n",
       "    nciic      (plm, time) float32 ...\n",
       "    ncl        (plm, time) float32 ...\n",
       "    nclic      (plm, time) float32 ...\n",
       "    npi        (plm, time) float32 ...\n",
       "    npl        (plm, time) float32 ...\n",
       "    olrcs      (time) float32 ...\n",
       "    olrrad     (time) float32 ...\n",
       "    pIWPss     (time) float32 ...\n",
       "    pLWPss     (time) float32 ...\n",
       "    p_3d       (plm, time) float32 ...\n",
       "    p_surf     (time) float32 ...\n",
       "    pblht      (time) float32 ...\n",
       "    pblht_bp   (time) float32 ...\n",
       "    prec       (time) float32 ...\n",
       "    pwv        (time) float32 ...\n",
       "    q          (plm, time) float32 ...\n",
       "    qci        (plm, time) float32 ...\n",
       "    qcl        (plm, time) float32 ...\n",
       "    qpi        (plm, time) float32 ...\n",
       "    qpl        (plm, time) float32 ...\n",
       "    re_mcci    (plm, time) float32 ...\n",
       "    re_mccl    (plm, time) float32 ...\n",
       "    re_mcpi    (plm, time) float32 ...\n",
       "    re_mcpl    (plm, time) float32 ...\n",
       "    re_ssci    (plm, time) float32 ...\n",
       "    re_sscl    (plm, time) float32 ...\n",
       "    re_sspi    (plm, time) float32 ...\n",
       "    re_sspl    (plm, time) float32 ...\n",
       "    rhw        (plm, time) float32 ...\n",
       "    ri_turb    (plm, time) float32 ...\n",
       "    shflx      (time) float32 ...\n",
       "    ssp        (time) float32 ...\n",
       "    swdf       (time) float32 ...\n",
       "    swdp       (plm, time) float32 ...\n",
       "    swds       (time) float32 ...\n",
       "    swup       (plm, time) float32 ...\n",
       "    swus       (time) float32 ...\n",
       "    t          (plm, time) float32 ...\n",
       "    tau_mc     (plm, time) float32 ...\n",
       "    tau_ss     (plm, time) float32 ...\n",
       "    th         (plm, time) float32 ...\n",
       "    u          (plm, time) float32 ...\n",
       "    ustar      (time) float32 ...\n",
       "    v          (plm, time) float32 ...\n",
       "    z          (plm, time) float32 ...\n",
       "Attributes:\n",
       "    xlabel:                     SCM_AWR_linft_BT0_unNa_noaer SCM_AWARE (M-PAC...\n",
       "    history:                    Fri Sep  6 17:21:45 2019: ncks -A allsteps.si...\n",
       "    history_of_appended_files:  Fri Sep  6 17:21:45 2019: Appended file allst...\n",
       "    NCO:                        4.6.7"
      ]
     },
     "execution_count": 3,
     "metadata": {},
     "output_type": "execute_result"
    }
   ],
   "source": [
    "my_model.ds"
   ]
  },
  {
   "cell_type": "code",
   "execution_count": 4,
   "metadata": {},
   "outputs": [
    {
     "data": {
      "text/html": [
       "<pre>&lt;xarray.DataArray &#x27;QCLmc&#x27; (plm: 63, time: 240)&gt;\n",
       "array([[0., 0., 0., ..., 0., 0., 0.],\n",
       "       [0., 0., 0., ..., 0., 0., 0.],\n",
       "       [0., 0., 0., ..., 0., 0., 0.],\n",
       "       ...,\n",
       "       [0., 0., 0., ..., 0., 0., 0.],\n",
       "       [0., 0., 0., ..., 0., 0., 0.],\n",
       "       [0., 0., 0., ..., 0., 0., 0.]], dtype=float32)\n",
       "Coordinates:\n",
       "    lat      float32 -77.85\n",
       "    lon      float32 166.72\n",
       "  * time     (time) float64 0.25 0.75 1.25 1.75 2.25 ... 118.2 118.8 119.2 119.8\n",
       "  * plm      (plm) float32 995.0 985.0 975.0 965.0 ... 0.781 0.439 0.247 0.139\n",
       "Attributes:\n",
       "    units:      kg/kg\n",
       "    long_name:  Convective Cloud Water</pre>"
      ],
      "text/plain": [
       "<xarray.DataArray 'QCLmc' (plm: 63, time: 240)>\n",
       "array([[0., 0., 0., ..., 0., 0., 0.],\n",
       "       [0., 0., 0., ..., 0., 0., 0.],\n",
       "       [0., 0., 0., ..., 0., 0., 0.],\n",
       "       ...,\n",
       "       [0., 0., 0., ..., 0., 0., 0.],\n",
       "       [0., 0., 0., ..., 0., 0., 0.],\n",
       "       [0., 0., 0., ..., 0., 0., 0.]], dtype=float32)\n",
       "Coordinates:\n",
       "    lat      float32 -77.85\n",
       "    lon      float32 166.72\n",
       "  * time     (time) float64 0.25 0.75 1.25 1.75 2.25 ... 118.2 118.8 119.2 119.8\n",
       "  * plm      (plm) float32 995.0 985.0 975.0 965.0 ... 0.781 0.439 0.247 0.139\n",
       "Attributes:\n",
       "    units:      kg/kg\n",
       "    long_name:  Convective Cloud Water"
      ]
     },
     "execution_count": 4,
     "metadata": {},
     "output_type": "execute_result"
    }
   ],
   "source": [
    "my_model.ds['QCLmc']"
   ]
  },
  {
   "cell_type": "code",
   "execution_count": 6,
   "metadata": {},
   "outputs": [],
   "source": [
    "HSRL = emc2.core.instruments.KAZR('nsa')"
   ]
  },
  {
   "cell_type": "code",
   "execution_count": 7,
   "metadata": {},
   "outputs": [
    {
     "name": "stdout",
     "output_type": "stream",
     "text": [
      "## Creating subcolumns...\n",
      "Generating radar moments...\n",
      "Stratiform moment for class pi progress: 0/240\n"
     ]
    },
    {
     "name": "stderr",
     "output_type": "stream",
     "text": [
      "/home/rjackson/.conda/envs/emc2_env/lib/python3.7/site-packages/emc2/simulator/radar_moments.py:242: RuntimeWarning: invalid value encountered in true_divide\n",
      "  column_ds[\"sub_col_Vd_%s_strat\" % hyd_type][:, k, tt] = -V_d_numer / moment_denom\n",
      "/home/rjackson/.conda/envs/emc2_env/lib/python3.7/site-packages/emc2/simulator/radar_moments.py:249: RuntimeWarning: invalid value encountered in true_divide\n",
      "  np.sqrt(sigma_d_numer / moment_denom)\n"
     ]
    },
    {
     "name": "stdout",
     "output_type": "stream",
     "text": [
      "Stratiform moment for class pi progress: 50/240\n",
      "Stratiform moment for class pi progress: 100/240\n",
      "Stratiform moment for class pi progress: 150/240\n",
      "Stratiform moment for class pi progress: 200/240\n"
     ]
    },
    {
     "name": "stderr",
     "output_type": "stream",
     "text": [
      "/home/rjackson/.conda/envs/emc2_env/lib/python3.7/site-packages/xarray/core/computation.py:601: RuntimeWarning: divide by zero encountered in log10\n",
      "  result_data = func(*input_data)\n",
      "/home/rjackson/.conda/envs/emc2_env/lib/python3.7/site-packages/emc2/simulator/radar_moments.py:260: RuntimeWarning: divide by zero encountered in true_divide\n",
      "  column_ds[\"sub_col_Vd_tot_strat\"] = xr.DataArray(-V_d_numer_tot / moment_denom_tot,\n",
      "/home/rjackson/.conda/envs/emc2_env/lib/python3.7/site-packages/emc2/simulator/radar_moments.py:260: RuntimeWarning: invalid value encountered in true_divide\n",
      "  column_ds[\"sub_col_Vd_tot_strat\"] = xr.DataArray(-V_d_numer_tot / moment_denom_tot,\n",
      "/home/rjackson/.conda/envs/emc2_env/lib/python3.7/site-packages/emc2/simulator/radar_moments.py:313: RuntimeWarning: invalid value encountered in true_divide\n",
      "  np.sqrt(sigma_d_numer / moment_denom)\n"
     ]
    },
    {
     "name": "stdout",
     "output_type": "stream",
     "text": [
      "Generating stratiform radar moments for hydrometeor class pi\n",
      "Stratiform moment for class pi progress: 0/240\n",
      "Stratiform moment for class pi progress: 50/240\n",
      "Stratiform moment for class pi progress: 100/240\n",
      "Stratiform moment for class pi progress: 150/240\n",
      "Stratiform moment for class pi progress: 200/240\n",
      "Stratiform moment for class pl progress: 0/240\n",
      "Stratiform moment for class pl progress: 50/240\n",
      "Stratiform moment for class pl progress: 100/240\n",
      "Stratiform moment for class pl progress: 150/240\n",
      "Stratiform moment for class pl progress: 200/240\n",
      "Generating stratiform radar moments for hydrometeor class pl\n",
      "Stratiform moment for class pl progress: 0/240\n",
      "Stratiform moment for class pl progress: 50/240\n",
      "Stratiform moment for class pl progress: 100/240\n",
      "Stratiform moment for class pl progress: 150/240\n",
      "Stratiform moment for class pl progress: 200/240\n",
      "Stratiform moment for class ci progress: 0/240\n",
      "Stratiform moment for class ci progress: 50/240\n",
      "Stratiform moment for class ci progress: 100/240\n",
      "Stratiform moment for class ci progress: 150/240\n",
      "Stratiform moment for class ci progress: 200/240\n",
      "Generating stratiform radar moments for hydrometeor class ci\n",
      "Stratiform moment for class ci progress: 0/240\n",
      "Stratiform moment for class ci progress: 50/240\n",
      "Stratiform moment for class ci progress: 100/240\n",
      "Stratiform moment for class ci progress: 150/240\n",
      "Stratiform moment for class ci progress: 200/240\n",
      "Stratiform moment for class cl progress: 0/240\n",
      "Stratiform moment for class cl progress: 50/240\n",
      "Stratiform moment for class cl progress: 100/240\n",
      "Stratiform moment for class cl progress: 150/240\n",
      "Stratiform moment for class cl progress: 200/240\n",
      "Generating stratiform radar moments for hydrometeor class cl\n",
      "Stratiform moment for class cl progress: 0/240\n",
      "Stratiform moment for class cl progress: 50/240\n",
      "Stratiform moment for class cl progress: 100/240\n",
      "Stratiform moment for class cl progress: 150/240\n",
      "Stratiform moment for class cl progress: 200/240\n"
     ]
    },
    {
     "name": "stderr",
     "output_type": "stream",
     "text": [
      "/home/rjackson/.conda/envs/emc2_env/lib/python3.7/site-packages/emc2/simulator/radar_moments.py:316: RuntimeWarning: divide by zero encountered in true_divide\n",
      "  column_ds[\"sub_col_sigma_d_tot_strat\"] = xr.DataArray(np.sqrt(sigma_d_numer_tot / moment_denom_tot),\n",
      "/home/rjackson/.conda/envs/emc2_env/lib/python3.7/site-packages/emc2/simulator/radar_moments.py:316: RuntimeWarning: invalid value encountered in true_divide\n",
      "  column_ds[\"sub_col_sigma_d_tot_strat\"] = xr.DataArray(np.sqrt(sigma_d_numer_tot / moment_denom_tot),\n",
      "/home/rjackson/.conda/envs/emc2_env/lib/python3.7/site-packages/xarray/core/computation.py:601: RuntimeWarning: divide by zero encountered in log10\n",
      "  result_data = func(*input_data)\n"
     ]
    },
    {
     "name": "stdout",
     "output_type": "stream",
     "text": [
      "(63, 240)\n"
     ]
    }
   ],
   "source": [
    "my_model = emc2.simulator.main.make_simulated_data(my_model, HSRL, 4)"
   ]
  },
  {
   "cell_type": "code",
   "execution_count": null,
   "metadata": {},
   "outputs": [
    {
     "name": "stdout",
     "output_type": "stream",
     "text": [
      "> \u001b[0;32m/home/rjackson/.conda/envs/emc2_env/lib/python3.7/site-packages/xarray/core/dataset.py\u001b[0m(146)\u001b[0;36m_get_virtual_variable\u001b[0;34m()\u001b[0m\n",
      "\u001b[0;32m    144 \u001b[0;31m        \u001b[0mref_var\u001b[0m \u001b[0;34m=\u001b[0m \u001b[0mdim_var\u001b[0m\u001b[0;34m.\u001b[0m\u001b[0mto_index_variable\u001b[0m\u001b[0;34m(\u001b[0m\u001b[0;34m)\u001b[0m\u001b[0;34m.\u001b[0m\u001b[0mget_level_variable\u001b[0m\u001b[0;34m(\u001b[0m\u001b[0mref_name\u001b[0m\u001b[0;34m)\u001b[0m\u001b[0;34m\u001b[0m\u001b[0;34m\u001b[0m\u001b[0m\n",
      "\u001b[0m\u001b[0;32m    145 \u001b[0;31m    \u001b[0;32melse\u001b[0m\u001b[0;34m:\u001b[0m\u001b[0;34m\u001b[0m\u001b[0;34m\u001b[0m\u001b[0m\n",
      "\u001b[0m\u001b[0;32m--> 146 \u001b[0;31m        \u001b[0mref_var\u001b[0m \u001b[0;34m=\u001b[0m \u001b[0mvariables\u001b[0m\u001b[0;34m[\u001b[0m\u001b[0mref_name\u001b[0m\u001b[0;34m]\u001b[0m\u001b[0;34m\u001b[0m\u001b[0;34m\u001b[0m\u001b[0m\n",
      "\u001b[0m\u001b[0;32m    147 \u001b[0;31m\u001b[0;34m\u001b[0m\u001b[0m\n",
      "\u001b[0m\u001b[0;32m    148 \u001b[0;31m    \u001b[0;32mif\u001b[0m \u001b[0mvar_name\u001b[0m \u001b[0;32mis\u001b[0m \u001b[0;32mNone\u001b[0m\u001b[0;34m:\u001b[0m\u001b[0;34m\u001b[0m\u001b[0;34m\u001b[0m\u001b[0m\n",
      "\u001b[0m\n",
      "ipdb> display dz\n",
      "display dz: ** raised NameError: name 'dz' is not defined **\n"
     ]
    }
   ],
   "source": []
  },
  {
   "cell_type": "code",
   "execution_count": 7,
   "metadata": {},
   "outputs": [
    {
     "data": {
      "text/plain": [
       "<xarray.Dataset>\n",
       "Dimensions:                    (plm: 63, subcolumn: 4, time: 240)\n",
       "Coordinates:\n",
       "  * plm                        (plm) float64 995.0 985.0 975.0 ... 0.247 0.139\n",
       "  * time                       (time) float64 0.25 0.75 1.25 ... 119.2 119.8\n",
       "  * subcolumn                  (subcolumn) int64 0 1 2 3\n",
       "    lat                        float32 -77.85\n",
       "    lon                        float32 166.72\n",
       "Data variables:\n",
       "    QCImc                      (plm, time) float32 ...\n",
       "    QCLmc                      (plm, time) float32 ...\n",
       "    QPImc                      (plm, time) float32 ...\n",
       "    QPLmc                      (plm, time) float32 ...\n",
       "    axyp                       float32 ...\n",
       "    cIWPss                     (time) float32 ...\n",
       "    cLWPss                     (time) float32 ...\n",
       "    cldmc                      (plm, time) float32 ...\n",
       "    cldmc_2d                   (time) float32 ...\n",
       "    cldmcci                    (plm, time) float32 ...\n",
       "    cldmccl                    (plm, time) float32 ...\n",
       "    cldmcpi                    (plm, time) float32 ...\n",
       "    cldmcpl                    (plm, time) float32 ...\n",
       "    cldss                      (plm, time) float32 ...\n",
       "    cldss_2d                   (time) float32 ...\n",
       "    cldssci                    (plm, time) float32 ...\n",
       "    cldsscl                    (plm, time) float32 ...\n",
       "    cldsspi                    (plm, time) float32 ...\n",
       "    cldsspl                    (plm, time) float32 ...\n",
       "    cldtot_2d                  (time) float32 ...\n",
       "    dq_ls                      (plm, time) float32 ...\n",
       "    dq_mc                      (plm, time) float32 ...\n",
       "    dq_nudge                   (plm, time) float32 ...\n",
       "    dq_ss                      (plm, time) float32 ...\n",
       "    dq_turb                    (plm, time) float32 ...\n",
       "    dth_ls                     (plm, time) float32 ...\n",
       "    dth_lw                     (plm, time) float32 ...\n",
       "    dth_mc                     (plm, time) float32 ...\n",
       "    dth_nudge                  (plm, time) float32 ...\n",
       "    dth_rad                    (plm, time) float32 ...\n",
       "    dth_ss                     (plm, time) float32 ...\n",
       "    dth_sw                     (plm, time) float32 ...\n",
       "    dth_turb                   (plm, time) float32 ...\n",
       "    e_turb                     (plm, time) float32 ...\n",
       "    gtempr                     (time) float32 ...\n",
       "    isccp_tau                  (time) float32 ...\n",
       "    iwp                        (time) float32 ...\n",
       "    kh_turb                    (plm, time) float32 ...\n",
       "    km_turb                    (plm, time) float32 ...\n",
       "    len_turb                   (plm, time) float32 ...\n",
       "    lhflx                      (time) float32 ...\n",
       "    lwdp                       (plm, time) float32 ...\n",
       "    lwds                       (time) float32 ...\n",
       "    lwdscs                     (time) float32 ...\n",
       "    lwp                        (time) float32 ...\n",
       "    lwup                       (plm, time) float32 ...\n",
       "    lwus                       (time) float32 ...\n",
       "    mcp                        (time) float32 ...\n",
       "    nci                        (plm, time) float32 ...\n",
       "    nciic                      (plm, time) float32 ...\n",
       "    ncl                        (plm, time) float32 ...\n",
       "    nclic                      (plm, time) float32 ...\n",
       "    npi                        (plm, time) float32 ...\n",
       "    npl                        (plm, time) float32 ...\n",
       "    olrcs                      (time) float32 ...\n",
       "    olrrad                     (time) float32 ...\n",
       "    pIWPss                     (time) float32 ...\n",
       "    pLWPss                     (time) float32 ...\n",
       "    p_3d                       (plm, time) float32 ...\n",
       "    p_surf                     (time) float32 ...\n",
       "    pblht                      (time) float32 ...\n",
       "    pblht_bp                   (time) float32 ...\n",
       "    prec                       (time) float32 ...\n",
       "    pwv                        (time) float32 ...\n",
       "    q                          (plm, time) float32 ...\n",
       "    qci                        (plm, time) float32 ...\n",
       "    qcl                        (plm, time) float32 ...\n",
       "    qpi                        (plm, time) float32 ...\n",
       "    qpl                        (plm, time) float32 ...\n",
       "    re_mcci                    (plm, time) float32 ...\n",
       "    re_mccl                    (plm, time) float32 ...\n",
       "    re_mcpi                    (plm, time) float32 ...\n",
       "    re_mcpl                    (plm, time) float32 ...\n",
       "    re_ssci                    (plm, time) float32 ...\n",
       "    re_sscl                    (plm, time) float32 ...\n",
       "    re_sspi                    (plm, time) float32 ...\n",
       "    re_sspl                    (plm, time) float32 ...\n",
       "    rhw                        (plm, time) float32 ...\n",
       "    ri_turb                    (plm, time) float32 ...\n",
       "    shflx                      (time) float32 ...\n",
       "    ssp                        (time) float32 ...\n",
       "    swdf                       (time) float32 ...\n",
       "    swdp                       (plm, time) float32 ...\n",
       "    swds                       (time) float32 ...\n",
       "    swup                       (plm, time) float32 ...\n",
       "    swus                       (time) float32 ...\n",
       "    t                          (plm, time) float32 ...\n",
       "    tau_mc                     (plm, time) float32 ...\n",
       "    tau_ss                     (plm, time) float32 ...\n",
       "    th                         (plm, time) float32 ...\n",
       "    u                          (plm, time) float32 ...\n",
       "    ustar                      (time) float32 ...\n",
       "    v                          (plm, time) float32 ...\n",
       "    z                          (plm, time) float32 ...\n",
       "    conv_frac_subcolumns_cl    (subcolumn, plm, time) bool False False ... False\n",
       "    conv_frac_subcolumns_ci    (subcolumn, plm, time) bool False False ... False\n",
       "    conv_frac_subcolumns_pl    (subcolumn, plm, time) bool False False ... False\n",
       "    conv_frac_subcolumns_pi    (subcolumn, plm, time) bool False False ... False\n",
       "    strat_frac_subcolumns_cl   (subcolumn, plm, time) bool False False ... False\n",
       "    strat_frac_subcolumns_ci   (subcolumn, plm, time) bool False False ... False\n",
       "    strat_frac_subcolumns_pl   (subcolumn, plm, time) bool False False ... False\n",
       "    strat_frac_subcolumns_pi   (subcolumn, plm, time) bool False False ... False\n",
       "    strat_q_subcolumns_cl      (subcolumn, plm, time) float32 0.0 0.0 ... 0.0\n",
       "    strat_n_subcolumns_cl      (subcolumn, plm, time) float32 0.0 0.0 ... 0.0\n",
       "    conv_q_subcolumns_cl       (subcolumn, plm, time) float32 0.0 0.0 ... 0.0\n",
       "    strat_q_subcolumns_ci      (subcolumn, plm, time) float32 0.0 0.0 ... 0.0\n",
       "    strat_n_subcolumns_ci      (subcolumn, plm, time) float32 0.0 0.0 ... 0.0\n",
       "    conv_q_subcolumns_ci       (subcolumn, plm, time) float32 0.0 0.0 ... 0.0\n",
       "    strat_q_subcolumns_pl      (subcolumn, plm, time) float32 0.0 0.0 ... 0.0\n",
       "    strat_n_subcolumns_pl      (subcolumn, plm, time) float32 0.0 0.0 ... 0.0\n",
       "    conv_q_subcolumns_pl       (subcolumn, plm, time) float32 0.0 0.0 ... 0.0\n",
       "    strat_q_subcolumns_pi      (subcolumn, plm, time) float32 0.0 0.0 ... 0.0\n",
       "    strat_n_subcolumns_pi      (subcolumn, plm, time) float32 0.0 0.0 ... 0.0\n",
       "    conv_q_subcolumns_pi       (subcolumn, plm, time) float32 0.0 0.0 ... 0.0\n",
       "    sub_col_Ze_tot_strat       (subcolumn, plm, time) float64 nan nan ... nan\n",
       "    sub_col_Vd_tot_strat       (subcolumn, plm, time) float64 nan nan ... nan\n",
       "    sub_col_sigma_d_tot_strat  (subcolumn, plm, time) float64 nan nan ... nan\n",
       "    sub_col_Ze_pi_strat        (subcolumn, plm, time) float64 -inf -inf ... -inf\n",
       "    sub_col_Vd_pi_strat        (subcolumn, plm, time) float64 0.0 0.0 ... 0.0\n",
       "    sub_col_sigma_d_pi_strat   (subcolumn, plm, time) float64 0.0 0.0 ... 0.0\n",
       "    mu                         (subcolumn, plm, time) float32 12.576265 ... 12.576265\n",
       "    lambda                     (subcolumn, plm, time) float64 nan nan ... nan\n",
       "    N_0                        (subcolumn, plm, time) float64 nan nan ... nan\n",
       "    sub_col_Ze_pl_strat        (subcolumn, plm, time) float64 -inf -inf ... -inf\n",
       "    sub_col_Vd_pl_strat        (subcolumn, plm, time) float64 0.0 0.0 ... 0.0\n",
       "    sub_col_sigma_d_pl_strat   (subcolumn, plm, time) float64 0.0 0.0 ... 0.0\n",
       "    sub_col_Ze_ci_strat        (subcolumn, plm, time) float64 -inf -inf ... -inf\n",
       "    sub_col_Vd_ci_strat        (subcolumn, plm, time) float64 0.0 0.0 ... 0.0\n",
       "    sub_col_sigma_d_ci_strat   (subcolumn, plm, time) float64 0.0 0.0 ... 0.0\n",
       "    sub_col_Ze_cl_strat        (subcolumn, plm, time) float64 -inf -inf ... -inf\n",
       "    sub_col_Vd_cl_strat        (subcolumn, plm, time) float64 0.0 0.0 ... 0.0\n",
       "    sub_col_sigma_d_cl_strat   (subcolumn, plm, time) float64 0.0 0.0 ... 0.0\n",
       "    kappa_wv                   (plm, time) float32 0.028775988 ... 1.2e-06\n",
       "    kappa_o2                   (plm, time) float32 0.02862313 ... 1.7292007e-09\n",
       "    kappa_att                  (plm, time) float32 0.057399116 ... 1.2017292e-06\n",
       "    sub_col_Ze_att_tot_strat   (subcolumn, plm, time) float64 nan nan ... nan\n",
       "    Ze                         (plm, time) float32 -inf -inf -inf ... -inf -inf\n",
       "    sub_col_Ze_cl_conv         (plm, time) float32 -inf -inf -inf ... -inf -inf\n",
       "    sub_col_Ze_tot_conv        (plm, time) float32 -inf -inf -inf ... -inf -inf\n",
       "    sub_col_Ze_ci_conv         (plm, time) float32 -inf -inf -inf ... -inf -inf\n",
       "    sub_col_Ze_pl_conv         (plm, time) float32 -inf -inf -inf ... -inf -inf\n",
       "    sub_col_Ze_pi_conv         (plm, time) float32 -inf -inf -inf ... -inf -inf\n",
       "Attributes:\n",
       "    xlabel:                     SCM_AWR_linft_BT0_unNa_noaer SCM_AWARE (M-PAC...\n",
       "    history:                    Fri Sep  6 17:21:45 2019: ncks -A allsteps.si...\n",
       "    history_of_appended_files:  Fri Sep  6 17:21:45 2019: Appended file allst...\n",
       "    NCO:                        4.6.7"
      ]
     },
     "execution_count": 7,
     "metadata": {},
     "output_type": "execute_result"
    }
   ],
   "source": [
    "my_model.ds"
   ]
  },
  {
   "cell_type": "code",
   "execution_count": 19,
   "metadata": {},
   "outputs": [
    {
     "data": {
      "text/plain": [
       "Text(0, 0.5, 'Pressure [hPa]')"
      ]
     },
     "execution_count": 19,
     "metadata": {},
     "output_type": "execute_result"
    },
    {
     "data": {
      "image/png": "[encoded data removed]",
      "text/plain": [
       "<Figure size 432x288 with 2 Axes>"
      ]
     },
     "metadata": {
      "needs_background": "light"
     },
     "output_type": "display_data"
    }
   ],
   "source": [
    "fig, ax = plt.subplots(1, 1)\n",
    "my_model.ds[\"sub_col_Ze_cl_strat\"].sel(subcolumn=0).plot(ax=ax,\n",
    "                                                     cbar_kwargs={'ticks': np.arange(-30, -10, 2), 'label': 'Reflectivity [dBZ]'},\n",
    "                                                     cmap='act_HomeyerRainbow', vmin=-30, vmax=-15)\n",
    "ax.invert_yaxis()\n",
    "ax.set_ylabel('Pressure [hPa]')"
   ]
  },
  {
   "cell_type": "code",
   "execution_count": 58,
   "metadata": {},
   "outputs": [
    {
     "data": {
      "text/plain": [
       "<xarray.DataArray 'sub_col_Ze_cl_strat' (time: 240)>\n",
       "array([-inf, -inf,  nan,  nan,  nan,  nan,  nan,  nan,  nan,  nan,  nan,\n",
       "        nan,  nan,  nan,  nan,  nan,  nan,  nan,  nan,  nan,  nan,  nan,\n",
       "        nan,  nan,  nan,  nan,  nan,  nan, -inf, -inf, -inf, -inf, -inf,\n",
       "       -inf, -inf, -inf, -inf, -inf, -inf, -inf, -inf, -inf, -inf, -inf,\n",
       "       -inf, -inf, -inf, -inf, -inf, -inf, -inf, -inf, -inf, -inf, -inf,\n",
       "       -inf, -inf, -inf, -inf, -inf, -inf, -inf, -inf, -inf, -inf, -inf,\n",
       "       -inf, -inf, -inf, -inf, -inf, -inf, -inf, -inf, -inf, -inf, -inf,\n",
       "       -inf, -inf, -inf, -inf, -inf, -inf, -inf, -inf, -inf, -inf, -inf,\n",
       "       -inf, -inf, -inf, -inf, -inf, -inf, -inf, -inf, -inf, -inf, -inf,\n",
       "       -inf, -inf, -inf, -inf, -inf, -inf, -inf, -inf, -inf, -inf, -inf,\n",
       "       -inf, -inf, -inf, -inf, -inf, -inf, -inf, -inf, -inf, -inf, -inf,\n",
       "       -inf, -inf, -inf, -inf, -inf, -inf, -inf, -inf, -inf, -inf, -inf,\n",
       "       -inf, -inf, -inf, -inf, -inf, -inf, -inf, -inf, -inf, -inf, -inf,\n",
       "       -inf, -inf, -inf, -inf, -inf, -inf, -inf, -inf, -inf, -inf, -inf,\n",
       "       -inf, -inf, -inf, -inf, -inf, -inf, -inf, -inf, -inf, -inf, -inf,\n",
       "       -inf, -inf, -inf, -inf, -inf, -inf, -inf, -inf, -inf, -inf, -inf,\n",
       "       -inf, -inf, -inf, -inf, -inf, -inf, -inf, -inf, -inf, -inf, -inf,\n",
       "       -inf, -inf, -inf, -inf, -inf, -inf, -inf, -inf, -inf, -inf, -inf,\n",
       "       -inf, -inf, -inf, -inf, -inf, -inf, -inf, -inf, -inf, -inf, -inf,\n",
       "       -inf, -inf, -inf, -inf, -inf, -inf, -inf, -inf, -inf, -inf, -inf,\n",
       "       -inf, -inf, -inf, -inf, -inf, -inf, -inf, -inf, -inf, -inf, -inf,\n",
       "       -inf, -inf, -inf, -inf, -inf, -inf, -inf, -inf, -inf])\n",
       "Coordinates:\n",
       "    plm        float64 904.5\n",
       "  * time       (time) float64 0.25 0.75 1.25 1.75 ... 118.2 118.8 119.2 119.8\n",
       "    subcolumn  int64 1\n",
       "    lat        float32 -77.85\n",
       "    lon        float32 166.72"
      ]
     },
     "execution_count": 58,
     "metadata": {},
     "output_type": "execute_result"
    }
   ],
   "source": [
    "my_model.ds[\"sub_col_Ze_cl_strat\"].sel(subcolumn=1, plm=900, method='nearest')"
   ]
  },
  {
   "cell_type": "code",
   "execution_count": 33,
   "metadata": {},
   "outputs": [
    {
     "data": {
      "text/plain": [
       "<xarray.DataArray 'sub_col_Ze_cl_strat' ()>\n",
       "array(-inf)\n",
       "Coordinates:\n",
       "    subcolumn  int64 1\n",
       "    lat        float32 -77.85\n",
       "    lon        float32 166.72"
      ]
     },
     "execution_count": 33,
     "metadata": {},
     "output_type": "execute_result"
    }
   ],
   "source": [
    "my_model.ds[\"sub_col_Ze_cl_strat\"].sel(subcolumn=1).min()"
   ]
  },
  {
   "cell_type": "code",
   "execution_count": 38,
   "metadata": {},
   "outputs": [],
   "source": [
    "my_fits = emc2.simulator.psd.calc_mu_lambda(my_model, \"cl\", calc_dispersion=False)"
   ]
  },
  {
   "cell_type": "code",
   "execution_count": 39,
   "metadata": {},
   "outputs": [
    {
     "data": {
      "text/plain": [
       "<xarray.DataArray 'lambda' (time: 240)>\n",
       "array([      nan,       nan, 32461.385, 14672.888, 18177.426, 14431.658,\n",
       "       12787.933, 12702.781, 11136.366, 11189.629, 10584.155, 10532.369,\n",
       "       10248.045,  9988.509, 10117.765,  9754.789,  9690.174,  9650.67 ,\n",
       "        9685.391,  9764.004,  9953.582,  9662.316,  9666.593,  9620.095,\n",
       "        9585.388, 10012.482,  9896.209, 11428.988,       nan,       nan,\n",
       "             nan,       nan,       nan,       nan,       nan,       nan,\n",
       "             nan,       nan,       nan,       nan,       nan,       nan,\n",
       "             nan,       nan,       nan,       nan,       nan,       nan,\n",
       "             nan,       nan,       nan,       nan,       nan,       nan,\n",
       "             nan,       nan,       nan,       nan,       nan,       nan,\n",
       "             nan,       nan,       nan,       nan,       nan,       nan,\n",
       "             nan,       nan,       nan,       nan,       nan,       nan,\n",
       "             nan,       nan,       nan,       nan,       nan,       nan,\n",
       "             nan,       nan,       nan,       nan,       nan,       nan,\n",
       "             nan,       nan,       nan,       nan,       nan,       nan,\n",
       "             nan,       nan,       nan,       nan,       nan,       nan,\n",
       "             nan,       nan,       nan,       nan,       nan,       nan,\n",
       "             nan,       nan,       nan,       nan,       nan,       nan,\n",
       "             nan,       nan,       nan,       nan,       nan,       nan,\n",
       "             nan,       nan,       nan,       nan,       nan,       nan,\n",
       "             nan,       nan,       nan,       nan,       nan,       nan,\n",
       "             nan,       nan,       nan,       nan,       nan,       nan,\n",
       "             nan,       nan,       nan,       nan,       nan,       nan,\n",
       "             nan,       nan,       nan,       nan,       nan,       nan,\n",
       "             nan,       nan,       nan,       nan,       nan,       nan,\n",
       "             nan,       nan,       nan,       nan,       nan,       nan,\n",
       "             nan,       nan,       nan,       nan,       nan,       nan,\n",
       "             nan,       nan,       nan,       nan,       nan,       nan,\n",
       "             nan,       nan,       nan,       nan,       nan,       nan,\n",
       "             nan,       nan,       nan,       nan,       nan,       nan,\n",
       "             nan,       nan,       nan,       nan,       nan,       nan,\n",
       "             nan,       nan,       nan,       nan,       nan,       nan,\n",
       "             nan,       nan,       nan,       nan,       nan,       nan,\n",
       "             nan,       nan,       nan,       nan,       nan,       nan,\n",
       "             nan,       nan,       nan,       nan,       nan,       nan,\n",
       "             nan,       nan,       nan,       nan,       nan,       nan,\n",
       "             nan,       nan,       nan,       nan,       nan,       nan,\n",
       "             nan,       nan,       nan,       nan,       nan,       nan,\n",
       "             nan,       nan,       nan,       nan,       nan,       nan,\n",
       "             nan,       nan,       nan,       nan,       nan,       nan],\n",
       "      dtype=float32)\n",
       "Coordinates:\n",
       "    plm      float64 904.5\n",
       "  * time     (time) float64 0.25 0.75 1.25 1.75 2.25 ... 118.2 118.8 119.2 119.8\n",
       "    lat      float32 -77.85\n",
       "    lon      float32 166.72\n",
       "Attributes:\n",
       "    long_name:  Slope of gamma distribution fit\n",
       "    units:      cm-1"
      ]
     },
     "execution_count": 39,
     "metadata": {},
     "output_type": "execute_result"
    }
   ],
   "source": [
    "my_fits.ds[\"lambda\"].sel(plm=900, method='nearest')"
   ]
  },
  {
   "cell_type": "code",
   "execution_count": 83,
   "metadata": {},
   "outputs": [
    {
     "data": {
      "text/plain": [
       "<matplotlib.collections.QuadMesh at 0x7fd4ef516e10>"
      ]
     },
     "execution_count": 83,
     "metadata": {},
     "output_type": "execute_result"
    },
    {
     "data": {
      "image/png": "[encoded data removed]",
      "text/plain": [
       "<Figure size 432x288 with 2 Axes>"
      ]
     },
     "metadata": {
      "needs_background": "light"
     },
     "output_type": "display_data"
    }
   ],
   "source": [
    "my_fits.ds[my_fits.N_field[\"cl\"]].plot()"
   ]
  },
  {
   "cell_type": "code",
   "execution_count": 45,
   "metadata": {},
   "outputs": [
    {
     "name": "stdout",
     "output_type": "stream",
     "text": [
      "1.5234078763006918e+41\n"
     ]
    }
   ],
   "source": [
    "from scipy.special import gamma\n",
    "print(6849**(13)/gamma(13))\n",
    "c = np.pi * my_fits.Rho_hyd[\"cl\"].magnitude / 6.0\n",
    "d = 3.0\n",
    "fit_lambda = ((c * my_fits.ds[my_fits.N_field[\"cl\"]] * gamma(12 + d + 1)) / \\\n",
    "                  (my_fits.ds[my_fits.q_names_stratiform[\"cl\"]] * gamma(12 + 1)))**(1 / d)"
   ]
  },
  {
   "cell_type": "code",
   "execution_count": 47,
   "metadata": {},
   "outputs": [
    {
     "data": {
      "text/plain": [
       "<matplotlib.collections.QuadMesh at 0x7f4c6816e490>"
      ]
     },
     "execution_count": 47,
     "metadata": {},
     "output_type": "execute_result"
    },
    {
     "data": {
      "image/png": "[encoded data removed]",
      "text/plain": [
       "<Figure size 432x288 with 2 Axes>"
      ]
     },
     "metadata": {
      "needs_background": "light"
     },
     "output_type": "display_data"
    }
   ],
   "source": [
    "fit_lambda.where(my_fits.ds[my_fits.q_names_stratiform[\"cl\"]] > 0).plot(vmax=20000)"
   ]
  },
  {
   "cell_type": "code",
   "execution_count": 92,
   "metadata": {},
   "outputs": [
    {
     "data": {
      "text/plain": [
       "<matplotlib.collections.QuadMesh at 0x7fd4ef443d50>"
      ]
     },
     "execution_count": 92,
     "metadata": {},
     "output_type": "execute_result"
    },
    {
     "data": {
      "image/png": "[encoded data removed]",
      "text/plain": [
       "<Figure size 432x288 with 2 Axes>"
      ]
     },
     "metadata": {
      "needs_background": "light"
     },
     "output_type": "display_data"
    }
   ],
   "source": [
    "my_fits.ds[my_fits.q_names_stratiform[\"cl\"]].plot()"
   ]
  },
  {
   "cell_type": "code",
   "execution_count": 55,
   "metadata": {},
   "outputs": [
    {
     "data": {
      "text/plain": [
       "<matplotlib.collections.QuadMesh at 0x7f4c67de7950>"
      ]
     },
     "execution_count": 55,
     "metadata": {},
     "output_type": "execute_result"
    },
    {
     "data": {
      "image/png": "[encoded data removed]",
      "text/plain": [
       "<Figure size 432x288 with 2 Axes>"
      ]
     },
     "metadata": {
      "needs_background": "light"
     },
     "output_type": "display_data"
    }
   ],
   "source": [
    "N_0 = my_fits.ds[my_fits.N_field[\"cl\"]] * fit_lambda.astype('float64')**(12)\n",
    "N_0.plot()"
   ]
  },
  {
   "cell_type": "code",
   "execution_count": 48,
   "metadata": {},
   "outputs": [
    {
     "data": {
      "text/plain": [
       "<xarray.DataArray (time: 240)>\n",
       "array([nan, nan, inf, inf, inf, inf, inf, inf, inf, inf, inf, inf, inf,\n",
       "       inf, inf, inf, inf, inf, inf, inf, inf, inf, inf, inf, inf, inf,\n",
       "       inf, inf, nan, nan, nan, nan, nan, nan, nan, nan, nan, nan, nan,\n",
       "       nan, nan, nan, nan, nan, nan, nan, nan, nan, nan, nan, nan, nan,\n",
       "       nan, nan, nan, nan, nan, nan, nan, nan, nan, nan, nan, nan, nan,\n",
       "       nan, nan, nan, nan, nan, nan, nan, nan, nan, nan, nan, nan, nan,\n",
       "       nan, nan, nan, nan, nan, nan, nan, nan, nan, nan, nan, nan, nan,\n",
       "       nan, nan, nan, nan, nan, nan, nan, nan, nan, nan, nan, nan, nan,\n",
       "       nan, nan, nan, nan, nan, nan, nan, nan, nan, nan, nan, nan, nan,\n",
       "       nan, nan, nan, nan, nan, nan, nan, nan, nan, nan, nan, nan, nan,\n",
       "       nan, nan, nan, nan, nan, nan, nan, nan, nan, nan, nan, nan, nan,\n",
       "       nan, nan, nan, nan, nan, nan, nan, nan, nan, nan, nan, nan, nan,\n",
       "       nan, nan, nan, nan, nan, nan, nan, nan, nan, nan, nan, nan, nan,\n",
       "       nan, nan, nan, nan, nan, nan, nan, nan, nan, nan, nan, nan, nan,\n",
       "       nan, nan, nan, nan, nan, nan, nan, nan, nan, nan, nan, nan, nan,\n",
       "       nan, nan, nan, nan, nan, nan, nan, nan, nan, nan, nan, nan, nan,\n",
       "       nan, nan, nan, nan, nan, nan, nan, nan, nan, nan, nan, nan, nan,\n",
       "       nan, nan, nan, nan, nan, nan, nan, nan, nan, nan, nan, nan, nan,\n",
       "       nan, nan, nan, nan, nan, nan], dtype=float32)\n",
       "Coordinates:\n",
       "    plm      float64 904.5\n",
       "  * time     (time) float64 0.25 0.75 1.25 1.75 2.25 ... 118.2 118.8 119.2 119.8\n",
       "    lat      float32 -77.85\n",
       "    lon      float32 166.72"
      ]
     },
     "execution_count": 48,
     "metadata": {},
     "output_type": "execute_result"
    }
   ],
   "source": [
    "x = fit_lambda**(my_fits.ds[\"mu\"] + 1)\n",
    "x.sel(plm=900, method='nearest')"
   ]
  },
  {
   "cell_type": "code",
   "execution_count": 52,
   "metadata": {},
   "outputs": [
    {
     "data": {
      "text/plain": [
       "11.11111111111111"
      ]
     },
     "execution_count": 52,
     "metadata": {},
     "output_type": "execute_result"
    }
   ],
   "source": [
    "1/0.09"
   ]
  },
  {
   "cell_type": "code",
   "execution_count": 53,
   "metadata": {},
   "outputs": [
    {
     "data": {
      "text/plain": [
       "dtype('float32')"
      ]
     },
     "execution_count": 53,
     "metadata": {},
     "output_type": "execute_result"
    }
   ],
   "source": [
    "fit_lambda.dtype"
   ]
  },
  {
   "cell_type": "code",
   "execution_count": null,
   "metadata": {},
   "outputs": [],
   "source": []
  }
 ],
 "metadata": {
  "kernelspec": {
   "display_name": "Python [conda env:.conda-emc2_env]",
   "language": "python",
   "name": "conda-env-.conda-emc2_env-py"
  },
  "language_info": {
   "codemirror_mode": {
    "name": "ipython",
    "version": 3
   },
   "file_extension": ".py",
   "mimetype": "text/x-python",
   "name": "python",
   "nbconvert_exporter": "python",
   "pygments_lexer": "ipython3",
   "version": "3.7.4"
  }
 },
 "nbformat": 4,
 "nbformat_minor": 2
}
