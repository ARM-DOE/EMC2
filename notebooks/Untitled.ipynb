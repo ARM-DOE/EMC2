{
 "cells": [
  {
   "cell_type": "markdown",
   "metadata": {},
   "source": [
    "# EMC2 demo notebook"
   ]
  },
  {
   "cell_type": "code",
   "execution_count": 1,
   "metadata": {},
   "outputs": [
    {
     "name": "stdout",
     "output_type": "stream",
     "text": [
      "Populating the interactive namespace from numpy and matplotlib\n"
     ]
    }
   ],
   "source": [
    "import emc2\n",
    "import act\n",
    "%pylab inline"
   ]
  },
  {
   "cell_type": "code",
   "execution_count": 2,
   "metadata": {},
   "outputs": [],
   "source": [
    "model_path = 'allvars.SCM_AWR_linft_BT0_unNa_noaer.nc'\n",
    "my_model = emc2.core.model.ModelE(model_path)"
   ]
  },
  {
   "cell_type": "code",
   "execution_count": 3,
   "metadata": {},
   "outputs": [
    {
     "data": {
      "text/html": [
       "<pre>&lt;xarray.DataArray &#x27;time&#x27; (time: 240)&gt;\n",
       "array([cftime.DatetimeNoLeap(2016-08-16 01:15:00),\n",
       "       cftime.DatetimeNoLeap(2016-08-16 01:45:00),\n",
       "       cftime.DatetimeNoLeap(2016-08-16 02:15:00), ...,\n",
       "       cftime.DatetimeNoLeap(2016-08-20 23:45:00),\n",
       "       cftime.DatetimeNoLeap(2016-08-21 00:15:00),\n",
       "       cftime.DatetimeNoLeap(2016-08-21 00:45:00)], dtype=object)\n",
       "Coordinates:\n",
       "    lat      float32 -77.85\n",
       "    lon      float32 166.72\n",
       "  * time     (time) object 2016-08-16 01:15:00 ... 2016-08-21 00:45:00</pre>"
      ],
      "text/plain": [
       "<xarray.DataArray 'time' (time: 240)>\n",
       "array([cftime.DatetimeNoLeap(2016-08-16 01:15:00),\n",
       "       cftime.DatetimeNoLeap(2016-08-16 01:45:00),\n",
       "       cftime.DatetimeNoLeap(2016-08-16 02:15:00), ...,\n",
       "       cftime.DatetimeNoLeap(2016-08-20 23:45:00),\n",
       "       cftime.DatetimeNoLeap(2016-08-21 00:15:00),\n",
       "       cftime.DatetimeNoLeap(2016-08-21 00:45:00)], dtype=object)\n",
       "Coordinates:\n",
       "    lat      float32 -77.85\n",
       "    lon      float32 166.72\n",
       "  * time     (time) object 2016-08-16 01:15:00 ... 2016-08-21 00:45:00"
      ]
     },
     "execution_count": 3,
     "metadata": {},
     "output_type": "execute_result"
    }
   ],
   "source": [
    "my_model.ds['time']"
   ]
  },
  {
   "cell_type": "code",
   "execution_count": null,
   "metadata": {},
   "outputs": [],
   "source": [
    "my_model.ds['t']"
   ]
  },
  {
   "cell_type": "code",
   "execution_count": 4,
   "metadata": {},
   "outputs": [
    {
     "data": {
      "text/plain": [
       "8599.898393574296"
      ]
     },
     "execution_count": 4,
     "metadata": {},
     "output_type": "execute_result"
    }
   ],
   "source": [
    "KAZR = emc2.core.instruments.KAZR('nsa')\n",
    "KAZR.read_arm_netcdf_file('awrkazrcorgeM1.c0.20160816.000001.nc')\n",
    "KAZR.wavelength"
   ]
  },
  {
   "cell_type": "code",
   "execution_count": 4,
   "metadata": {},
   "outputs": [],
   "source": [
    "HSRL = emc2.core.instruments.HSRL()\n",
    "HSRL.read_arm_netcdf_file('/nfs/gce/projects/digr/emc2_data/drizzle_obs_data_nc/awrhsrlM1.a1.20160816.000000.cdf')"
   ]
  },
  {
   "cell_type": "code",
   "execution_count": 6,
   "metadata": {},
   "outputs": [
    {
     "name": "stdout",
     "output_type": "stream",
     "text": [
      "## Creating subcolumns...\n",
      "Generating radar moments...\n",
      "Stratiform moment for class pi progress: 0/240\n",
      "Stratiform moment for class pi progress: 50/240\n",
      "Stratiform moment for class pi progress: 100/240\n",
      "Stratiform moment for class pi progress: 150/240\n",
      "Stratiform moment for class pi progress: 200/240\n"
     ]
    },
    {
     "name": "stderr",
     "output_type": "stream",
     "text": [
      "C:\\Users\\rjackson\\AppData\\Local\\Continuum\\anaconda3\\envs\\emc2_env\\lib\\site-packages\\xarray\\core\\computation.py:601: RuntimeWarning: divide by zero encountered in log10\n",
      "  result_data = func(*input_data)\n",
      "C:\\Users\\rjackson\\AppData\\Local\\Continuum\\anaconda3\\envs\\emc2_env\\lib\\site-packages\\emc2\\simulator\\radar_moments.py:265: RuntimeWarning: invalid value encountered in true_divide\n",
      "  column_ds[\"sub_col_Vd_tot_strat\"] = xr.DataArray(-V_d_numer_tot / moment_denom_tot,\n"
     ]
    },
    {
     "name": "stdout",
     "output_type": "stream",
     "text": [
      "Generating stratiform radar moments for hydrometeor class pi\n",
      "Stratiform moment for class pi progress: 0/240\n"
     ]
    },
    {
     "name": "stderr",
     "output_type": "stream",
     "text": [
      "C:\\Users\\rjackson\\AppData\\Local\\Continuum\\anaconda3\\envs\\emc2_env\\lib\\site-packages\\emc2\\simulator\\radar_moments.py:319: RuntimeWarning: invalid value encountered in true_divide\n",
      "  np.sqrt(sigma_d_numer / moment_denom)\n"
     ]
    },
    {
     "name": "stdout",
     "output_type": "stream",
     "text": [
      "Stratiform moment for class pi progress: 50/240\n",
      "Stratiform moment for class pi progress: 100/240\n",
      "Stratiform moment for class pi progress: 150/240\n",
      "Stratiform moment for class pi progress: 200/240\n",
      "Stratiform moment for class pl progress: 0/240\n",
      "Stratiform moment for class pl progress: 50/240\n",
      "Stratiform moment for class pl progress: 100/240\n",
      "Stratiform moment for class pl progress: 150/240\n",
      "Stratiform moment for class pl progress: 200/240\n"
     ]
    },
    {
     "name": "stderr",
     "output_type": "stream",
     "text": [
      "C:\\Users\\rjackson\\AppData\\Local\\Continuum\\anaconda3\\envs\\emc2_env\\lib\\site-packages\\xarray\\core\\computation.py:601: RuntimeWarning: divide by zero encountered in log10\n",
      "  result_data = func(*input_data)\n",
      "C:\\Users\\rjackson\\AppData\\Local\\Continuum\\anaconda3\\envs\\emc2_env\\lib\\site-packages\\emc2\\simulator\\radar_moments.py:265: RuntimeWarning: invalid value encountered in true_divide\n",
      "  column_ds[\"sub_col_Vd_tot_strat\"] = xr.DataArray(-V_d_numer_tot / moment_denom_tot,\n"
     ]
    },
    {
     "name": "stdout",
     "output_type": "stream",
     "text": [
      "Generating stratiform radar moments for hydrometeor class pl\n",
      "Stratiform moment for class pl progress: 0/240\n"
     ]
    },
    {
     "name": "stderr",
     "output_type": "stream",
     "text": [
      "C:\\Users\\rjackson\\AppData\\Local\\Continuum\\anaconda3\\envs\\emc2_env\\lib\\site-packages\\emc2\\simulator\\radar_moments.py:319: RuntimeWarning: invalid value encountered in true_divide\n",
      "  np.sqrt(sigma_d_numer / moment_denom)\n"
     ]
    },
    {
     "name": "stdout",
     "output_type": "stream",
     "text": [
      "Stratiform moment for class pl progress: 50/240\n",
      "Stratiform moment for class pl progress: 100/240\n",
      "Stratiform moment for class pl progress: 150/240\n",
      "Stratiform moment for class pl progress: 200/240\n",
      "Stratiform moment for class ci progress: 0/240\n",
      "Stratiform moment for class ci progress: 50/240\n",
      "Stratiform moment for class ci progress: 100/240\n",
      "Stratiform moment for class ci progress: 150/240\n",
      "Stratiform moment for class ci progress: 200/240\n"
     ]
    },
    {
     "name": "stderr",
     "output_type": "stream",
     "text": [
      "C:\\Users\\rjackson\\AppData\\Local\\Continuum\\anaconda3\\envs\\emc2_env\\lib\\site-packages\\xarray\\core\\computation.py:601: RuntimeWarning: divide by zero encountered in log10\n",
      "  result_data = func(*input_data)\n",
      "C:\\Users\\rjackson\\AppData\\Local\\Continuum\\anaconda3\\envs\\emc2_env\\lib\\site-packages\\emc2\\simulator\\radar_moments.py:265: RuntimeWarning: invalid value encountered in true_divide\n",
      "  column_ds[\"sub_col_Vd_tot_strat\"] = xr.DataArray(-V_d_numer_tot / moment_denom_tot,\n"
     ]
    },
    {
     "name": "stdout",
     "output_type": "stream",
     "text": [
      "Generating stratiform radar moments for hydrometeor class ci\n",
      "Stratiform moment for class ci progress: 0/240\n"
     ]
    },
    {
     "name": "stderr",
     "output_type": "stream",
     "text": [
      "C:\\Users\\rjackson\\AppData\\Local\\Continuum\\anaconda3\\envs\\emc2_env\\lib\\site-packages\\emc2\\simulator\\radar_moments.py:319: RuntimeWarning: invalid value encountered in true_divide\n",
      "  np.sqrt(sigma_d_numer / moment_denom)\n"
     ]
    },
    {
     "name": "stdout",
     "output_type": "stream",
     "text": [
      "Stratiform moment for class ci progress: 50/240\n",
      "Stratiform moment for class ci progress: 100/240\n",
      "Stratiform moment for class ci progress: 150/240\n",
      "Stratiform moment for class ci progress: 200/240\n",
      "Stratiform moment for class cl progress: 0/240\n",
      "Stratiform moment for class cl progress: 100/240\n",
      "Stratiform moment for class cl progress: 200/240\n"
     ]
    },
    {
     "name": "stderr",
     "output_type": "stream",
     "text": [
      "C:\\Users\\rjackson\\AppData\\Local\\Continuum\\anaconda3\\envs\\emc2_env\\lib\\site-packages\\xarray\\core\\computation.py:601: RuntimeWarning: divide by zero encountered in log10\n",
      "  result_data = func(*input_data)\n",
      "C:\\Users\\rjackson\\AppData\\Local\\Continuum\\anaconda3\\envs\\emc2_env\\lib\\site-packages\\emc2\\simulator\\radar_moments.py:265: RuntimeWarning: invalid value encountered in true_divide\n",
      "  column_ds[\"sub_col_Vd_tot_strat\"] = xr.DataArray(-V_d_numer_tot / moment_denom_tot,\n"
     ]
    },
    {
     "name": "stdout",
     "output_type": "stream",
     "text": [
      "Generating stratiform radar moments for hydrometeor class cl\n",
      "Stratiform moment for class cl progress: 0/240\n",
      "Stratiform moment for class cl progress: 50/240\n",
      "Stratiform moment for class cl progress: 100/240\n",
      "Stratiform moment for class cl progress: 150/240\n",
      "Stratiform moment for class cl progress: 200/240\n"
     ]
    },
    {
     "name": "stderr",
     "output_type": "stream",
     "text": [
      "C:\\Users\\rjackson\\AppData\\Local\\Continuum\\anaconda3\\envs\\emc2_env\\lib\\site-packages\\emc2\\simulator\\radar_moments.py:322: RuntimeWarning: invalid value encountered in true_divide\n",
      "  column_ds[\"sub_col_sigma_d_tot_strat\"] = xr.DataArray(np.sqrt(sigma_d_numer_tot / moment_denom_tot),\n",
      "C:\\Users\\rjackson\\AppData\\Local\\Continuum\\anaconda3\\envs\\emc2_env\\lib\\site-packages\\xarray\\core\\computation.py:601: RuntimeWarning: divide by zero encountered in log10\n",
      "  result_data = func(*input_data)\n"
     ]
    }
   ],
   "source": [
    "my_model = emc2.simulator.main.make_simulated_data(my_model, KAZR, 8)"
   ]
  },
  {
   "cell_type": "code",
   "execution_count": null,
   "metadata": {},
   "outputs": [],
   "source": [
    "my_model.ds[\"time\"].attrs"
   ]
  },
  {
   "cell_type": "code",
   "execution_count": 7,
   "metadata": {},
   "outputs": [
    {
     "data": {
      "text/html": [
       "<pre>&lt;xarray.Dataset&gt;\n",
       "Dimensions:                    (plm: 63, subcolumn: 8, time: 240)\n",
       "Coordinates:\n",
       "  * plm                        (plm) float64 995.0 985.0 975.0 ... 0.247 0.139\n",
       "  * time                       (time) object 2016-08-16 01:15:00 ... 2016-08-21 00:45:00\n",
       "  * subcolumn                  (subcolumn) int64 0 1 2 3 4 5 6 7\n",
       "    lat                        float32 -77.85\n",
       "    lon                        float32 166.72\n",
       "Data variables:\n",
       "    QCImc                      (time, plm) float32 0.0 0.0 0.0 ... 0.0 0.0 0.0\n",
       "    QCLmc                      (time, plm) float32 0.0 0.0 0.0 ... 0.0 0.0 0.0\n",
       "    QPImc                      (time, plm) float32 0.0 0.0 0.0 ... 0.0 0.0 0.0\n",
       "    QPLmc                      (time, plm) float32 0.0 0.0 0.0 ... 0.0 0.0 0.0\n",
       "    axyp                       float32 ...\n",
       "    cIWPss                     (time) float32 ...\n",
       "    cLWPss                     (time) float32 ...\n",
       "    cldmc                      (time, plm) float32 ...\n",
       "    cldmc_2d                   (time) float32 ...\n",
       "    cldmcci                    (time, plm) float32 0.0 0.0 0.0 ... 0.0 0.0 0.0\n",
       "    cldmccl                    (time, plm) float32 0.0 0.0 0.0 ... 0.0 0.0 0.0\n",
       "    cldmcpi                    (time, plm) float32 0.0 0.0 0.0 ... 0.0 0.0 0.0\n",
       "    cldmcpl                    (time, plm) float32 0.0 0.0 0.0 ... 0.0 0.0 0.0\n",
       "    cldss                      (time, plm) float32 ...\n",
       "    cldss_2d                   (time) float32 ...\n",
       "    cldssci                    (time, plm) float32 0.0 0.0 0.0 ... 0.0 0.0 0.0\n",
       "    cldsscl                    (time, plm) float32 0.0 0.0 0.0 ... 0.0 0.0 0.0\n",
       "    cldsspi                    (time, plm) float32 0.0 0.0 0.0 ... 0.0 0.0 0.0\n",
       "    cldsspl                    (time, plm) float32 0.0 0.0 0.0 ... 0.0 0.0 0.0\n",
       "    cldtot_2d                  (time) float32 ...\n",
       "    dq_ls                      (time, plm) float32 ...\n",
       "    dq_mc                      (time, plm) float32 ...\n",
       "    dq_nudge                   (time, plm) float32 ...\n",
       "    dq_ss                      (time, plm) float32 ...\n",
       "    dq_turb                    (time, plm) float32 ...\n",
       "    dth_ls                     (time, plm) float32 ...\n",
       "    dth_lw                     (time, plm) float32 ...\n",
       "    dth_mc                     (time, plm) float32 ...\n",
       "    dth_nudge                  (time, plm) float32 ...\n",
       "    dth_rad                    (time, plm) float32 ...\n",
       "    dth_ss                     (time, plm) float32 ...\n",
       "    dth_sw                     (time, plm) float32 ...\n",
       "    dth_turb                   (time, plm) float32 ...\n",
       "    e_turb                     (time, plm) float32 ...\n",
       "    gtempr                     (time) float32 ...\n",
       "    isccp_tau                  (time) float32 ...\n",
       "    iwp                        (time) float32 ...\n",
       "    kh_turb                    (time, plm) float32 ...\n",
       "    km_turb                    (time, plm) float32 ...\n",
       "    len_turb                   (time, plm) float32 ...\n",
       "    lhflx                      (time) float32 ...\n",
       "    lwdp                       (time, plm) float32 ...\n",
       "    lwds                       (time) float32 ...\n",
       "    lwdscs                     (time) float32 ...\n",
       "    lwp                        (time) float32 ...\n",
       "    lwup                       (time, plm) float32 ...\n",
       "    lwus                       (time) float32 ...\n",
       "    mcp                        (time) float32 ...\n",
       "    nci                        (time, plm) float32 0.0 0.0 0.0 ... 0.0 0.0 0.0\n",
       "    nciic                      (time, plm) float32 ...\n",
       "    ncl                        (time, plm) float32 0.0 0.0 0.0 ... 0.0 0.0 0.0\n",
       "    nclic                      (time, plm) float32 ...\n",
       "    npi                        (time, plm) float32 0.0 0.0 0.0 ... 0.0 0.0 0.0\n",
       "    npl                        (time, plm) float32 0.0 0.0 0.0 ... 0.0 0.0 0.0\n",
       "    olrcs                      (time) float32 ...\n",
       "    olrrad                     (time) float32 ...\n",
       "    pIWPss                     (time) float32 ...\n",
       "    pLWPss                     (time) float32 ...\n",
       "    p_3d                       (time, plm) float32 990.02924 ... 0.13899998\n",
       "    p_surf                     (time) float32 ...\n",
       "    pblht                      (time) float32 ...\n",
       "    pblht_bp                   (time) float32 ...\n",
       "    prec                       (time) float32 ...\n",
       "    pwv                        (time) float32 ...\n",
       "    q                          (time, plm) float32 0.0006471999 ... 8.9791666e-07\n",
       "    qci                        (time, plm) float32 ...\n",
       "    qcl                        (time, plm) float32 ...\n",
       "    qpi                        (time, plm) float32 ...\n",
       "    qpl                        (time, plm) float32 ...\n",
       "    re_mcci                    (time, plm) float32 ...\n",
       "    re_mccl                    (time, plm) float32 ...\n",
       "    re_mcpi                    (time, plm) float32 ...\n",
       "    re_mcpl                    (time, plm) float32 ...\n",
       "    re_ssci                    (time, plm) float32 ...\n",
       "    re_sscl                    (time, plm) float32 ...\n",
       "    re_sspi                    (time, plm) float32 ...\n",
       "    re_sspl                    (time, plm) float32 ...\n",
       "    rhw                        (time, plm) float32 ...\n",
       "    ri_turb                    (time, plm) float32 ...\n",
       "    shflx                      (time) float32 ...\n",
       "    ssp                        (time) float32 ...\n",
       "    swdf                       (time) float32 ...\n",
       "    swdp                       (time, plm) float32 ...\n",
       "    swds                       (time) float32 ...\n",
       "    swup                       (time, plm) float32 ...\n",
       "    swus                       (time) float32 ...\n",
       "    t                          (time, plm) float32 255.47481 ... 219.98639\n",
       "    tau_mc                     (time, plm) float32 ...\n",
       "    tau_ss                     (time, plm) float32 ...\n",
       "    th                         (time, plm) float32 ...\n",
       "    u                          (time, plm) float32 ...\n",
       "    ustar                      (time) float32 ...\n",
       "    v                          (time, plm) float32 ...\n",
       "    z                          (time, plm) float32 191.78166 ... 58659.72\n",
       "    conv_frac_subcolumns_cl    (subcolumn, time, plm) bool False False ... False\n",
       "    conv_frac_subcolumns_ci    (subcolumn, time, plm) bool False False ... False\n",
       "    conv_frac_subcolumns_pl    (subcolumn, time, plm) bool False False ... False\n",
       "    conv_frac_subcolumns_pi    (subcolumn, time, plm) bool False False ... False\n",
       "    strat_frac_subcolumns_cl   (subcolumn, time, plm) bool False False ... False\n",
       "    strat_frac_subcolumns_ci   (subcolumn, time, plm) bool False False ... False\n",
       "    strat_frac_subcolumns_pl   (subcolumn, time, plm) bool False False ... False\n",
       "    strat_frac_subcolumns_pi   (subcolumn, time, plm) bool False False ... False\n",
       "    strat_q_subcolumns_cl      (subcolumn, time, plm) float32 0.0 0.0 ... 0.0\n",
       "    strat_n_subcolumns_cl      (subcolumn, time, plm) float32 0.0 0.0 ... 0.0\n",
       "    conv_q_subcolumns_cl       (subcolumn, time, plm) float32 0.0 0.0 ... 0.0\n",
       "    strat_q_subcolumns_ci      (subcolumn, time, plm) float32 0.0 0.0 ... 0.0\n",
       "    strat_n_subcolumns_ci      (subcolumn, time, plm) float32 0.0 0.0 ... 0.0\n",
       "    conv_q_subcolumns_ci       (subcolumn, time, plm) float32 0.0 0.0 ... 0.0\n",
       "    strat_q_subcolumns_pl      (subcolumn, time, plm) float32 0.0 0.0 ... 0.0\n",
       "    strat_n_subcolumns_pl      (subcolumn, time, plm) float32 0.0 0.0 ... 0.0\n",
       "    conv_q_subcolumns_pl       (subcolumn, time, plm) float32 0.0 0.0 ... 0.0\n",
       "    strat_q_subcolumns_pi      (subcolumn, time, plm) float32 0.0 0.0 ... 0.0\n",
       "    strat_n_subcolumns_pi      (subcolumn, time, plm) float32 0.0 0.0 ... 0.0\n",
       "    conv_q_subcolumns_pi       (subcolumn, time, plm) float32 0.0 0.0 ... 0.0\n",
       "    sub_col_Ze_tot_strat       (subcolumn, time, plm) float64 nan nan ... nan\n",
       "    sub_col_Vd_tot_strat       (subcolumn, time, plm) float64 nan nan ... nan\n",
       "    sub_col_sigma_d_tot_strat  (subcolumn, time, plm) float64 nan nan ... nan\n",
       "    sub_col_Ze_pi_strat        (subcolumn, time, plm) float64 -inf -inf ... -inf\n",
       "    sub_col_Vd_pi_strat        (subcolumn, time, plm) float64 nan nan ... nan\n",
       "    sub_col_sigma_d_pi_strat   (subcolumn, time, plm) float64 nan nan ... nan\n",
       "    mu                         (subcolumn, time, plm) float64 12.58 ... 12.58\n",
       "    lambda                     (subcolumn, time, plm) float64 nan nan ... nan\n",
       "    N_0                        (subcolumn, time, plm) float64 nan nan ... nan\n",
       "    sub_col_Ze_pl_strat        (subcolumn, time, plm) float64 -inf -inf ... -inf\n",
       "    sub_col_Vd_pl_strat        (subcolumn, time, plm) float64 nan nan ... nan\n",
       "    sub_col_sigma_d_pl_strat   (subcolumn, time, plm) float64 nan nan ... nan\n",
       "    sub_col_Ze_ci_strat        (subcolumn, time, plm) float64 -inf -inf ... -inf\n",
       "    sub_col_Vd_ci_strat        (subcolumn, time, plm) float64 nan nan ... nan\n",
       "    sub_col_sigma_d_ci_strat   (subcolumn, time, plm) float64 nan nan ... nan\n",
       "    sub_col_Ze_cl_strat        (subcolumn, time, plm) float64 -inf -inf ... -inf\n",
       "    sub_col_Vd_cl_strat        (subcolumn, time, plm) float64 nan nan ... nan\n",
       "    sub_col_sigma_d_cl_strat   (subcolumn, time, plm) float64 nan nan ... nan\n",
       "    kappa_wv                   (time, plm) float64 1.2e-06 1.2e-06 ... 1.2e-06\n",
       "    kappa_o2                   (time, plm) float32 0.019597711 ... 1.1832672e-09\n",
       "    kappa_att                  (time, plm) float64 0.0196 0.01937 ... 1.201e-06\n",
       "    sub_col_Ze_att_tot_strat   (subcolumn, time, plm) float64 nan nan ... nan\n",
       "    Ze                         (time, plm) float32 -inf -inf -inf ... -inf -inf\n",
       "    sub_col_Ze_cl_conv         (time, plm) float32 -inf -inf -inf ... -inf -inf\n",
       "    sub_col_Ze_tot_conv        (time, plm) float32 -inf -inf -inf ... -inf -inf\n",
       "    sub_col_Ze_ci_conv         (time, plm) float32 -inf -inf -inf ... -inf -inf\n",
       "    sub_col_Ze_pl_conv         (time, plm) float32 -inf -inf -inf ... -inf -inf\n",
       "    sub_col_Ze_pi_conv         (time, plm) float32 -inf -inf -inf ... -inf -inf\n",
       "    sub_col_Ze_att_tot_conv    (time, plm) float64 -inf -inf -inf ... -inf -inf\n",
       "Attributes:\n",
       "    xlabel:                     SCM_AWR_linft_BT0_unNa_noaer SCM_AWARE (M-PAC...\n",
       "    history:                    Fri Sep  6 17:21:45 2019: ncks -A allsteps.si...\n",
       "    history_of_appended_files:  Fri Sep  6 17:21:45 2019: Appended file allst...\n",
       "    NCO:                        4.6.7</pre>"
      ],
      "text/plain": [
       "<xarray.Dataset>\n",
       "Dimensions:                    (plm: 63, subcolumn: 8, time: 240)\n",
       "Coordinates:\n",
       "  * plm                        (plm) float64 995.0 985.0 975.0 ... 0.247 0.139\n",
       "  * time                       (time) object 2016-08-16 01:15:00 ... 2016-08-21 00:45:00\n",
       "  * subcolumn                  (subcolumn) int64 0 1 2 3 4 5 6 7\n",
       "    lat                        float32 -77.85\n",
       "    lon                        float32 166.72\n",
       "Data variables:\n",
       "    QCImc                      (time, plm) float32 0.0 0.0 0.0 ... 0.0 0.0 0.0\n",
       "    QCLmc                      (time, plm) float32 0.0 0.0 0.0 ... 0.0 0.0 0.0\n",
       "    QPImc                      (time, plm) float32 0.0 0.0 0.0 ... 0.0 0.0 0.0\n",
       "    QPLmc                      (time, plm) float32 0.0 0.0 0.0 ... 0.0 0.0 0.0\n",
       "    axyp                       float32 ...\n",
       "    cIWPss                     (time) float32 ...\n",
       "    cLWPss                     (time) float32 ...\n",
       "    cldmc                      (time, plm) float32 ...\n",
       "    cldmc_2d                   (time) float32 ...\n",
       "    cldmcci                    (time, plm) float32 0.0 0.0 0.0 ... 0.0 0.0 0.0\n",
       "    cldmccl                    (time, plm) float32 0.0 0.0 0.0 ... 0.0 0.0 0.0\n",
       "    cldmcpi                    (time, plm) float32 0.0 0.0 0.0 ... 0.0 0.0 0.0\n",
       "    cldmcpl                    (time, plm) float32 0.0 0.0 0.0 ... 0.0 0.0 0.0\n",
       "    cldss                      (time, plm) float32 ...\n",
       "    cldss_2d                   (time) float32 ...\n",
       "    cldssci                    (time, plm) float32 0.0 0.0 0.0 ... 0.0 0.0 0.0\n",
       "    cldsscl                    (time, plm) float32 0.0 0.0 0.0 ... 0.0 0.0 0.0\n",
       "    cldsspi                    (time, plm) float32 0.0 0.0 0.0 ... 0.0 0.0 0.0\n",
       "    cldsspl                    (time, plm) float32 0.0 0.0 0.0 ... 0.0 0.0 0.0\n",
       "    cldtot_2d                  (time) float32 ...\n",
       "    dq_ls                      (time, plm) float32 ...\n",
       "    dq_mc                      (time, plm) float32 ...\n",
       "    dq_nudge                   (time, plm) float32 ...\n",
       "    dq_ss                      (time, plm) float32 ...\n",
       "    dq_turb                    (time, plm) float32 ...\n",
       "    dth_ls                     (time, plm) float32 ...\n",
       "    dth_lw                     (time, plm) float32 ...\n",
       "    dth_mc                     (time, plm) float32 ...\n",
       "    dth_nudge                  (time, plm) float32 ...\n",
       "    dth_rad                    (time, plm) float32 ...\n",
       "    dth_ss                     (time, plm) float32 ...\n",
       "    dth_sw                     (time, plm) float32 ...\n",
       "    dth_turb                   (time, plm) float32 ...\n",
       "    e_turb                     (time, plm) float32 ...\n",
       "    gtempr                     (time) float32 ...\n",
       "    isccp_tau                  (time) float32 ...\n",
       "    iwp                        (time) float32 ...\n",
       "    kh_turb                    (time, plm) float32 ...\n",
       "    km_turb                    (time, plm) float32 ...\n",
       "    len_turb                   (time, plm) float32 ...\n",
       "    lhflx                      (time) float32 ...\n",
       "    lwdp                       (time, plm) float32 ...\n",
       "    lwds                       (time) float32 ...\n",
       "    lwdscs                     (time) float32 ...\n",
       "    lwp                        (time) float32 ...\n",
       "    lwup                       (time, plm) float32 ...\n",
       "    lwus                       (time) float32 ...\n",
       "    mcp                        (time) float32 ...\n",
       "    nci                        (time, plm) float32 0.0 0.0 0.0 ... 0.0 0.0 0.0\n",
       "    nciic                      (time, plm) float32 ...\n",
       "    ncl                        (time, plm) float32 0.0 0.0 0.0 ... 0.0 0.0 0.0\n",
       "    nclic                      (time, plm) float32 ...\n",
       "    npi                        (time, plm) float32 0.0 0.0 0.0 ... 0.0 0.0 0.0\n",
       "    npl                        (time, plm) float32 0.0 0.0 0.0 ... 0.0 0.0 0.0\n",
       "    olrcs                      (time) float32 ...\n",
       "    olrrad                     (time) float32 ...\n",
       "    pIWPss                     (time) float32 ...\n",
       "    pLWPss                     (time) float32 ...\n",
       "    p_3d                       (time, plm) float32 990.02924 ... 0.13899998\n",
       "    p_surf                     (time) float32 ...\n",
       "    pblht                      (time) float32 ...\n",
       "    pblht_bp                   (time) float32 ...\n",
       "    prec                       (time) float32 ...\n",
       "    pwv                        (time) float32 ...\n",
       "    q                          (time, plm) float32 0.0006471999 ... 8.9791666e-07\n",
       "    qci                        (time, plm) float32 ...\n",
       "    qcl                        (time, plm) float32 ...\n",
       "    qpi                        (time, plm) float32 ...\n",
       "    qpl                        (time, plm) float32 ...\n",
       "    re_mcci                    (time, plm) float32 ...\n",
       "    re_mccl                    (time, plm) float32 ...\n",
       "    re_mcpi                    (time, plm) float32 ...\n",
       "    re_mcpl                    (time, plm) float32 ...\n",
       "    re_ssci                    (time, plm) float32 ...\n",
       "    re_sscl                    (time, plm) float32 ...\n",
       "    re_sspi                    (time, plm) float32 ...\n",
       "    re_sspl                    (time, plm) float32 ...\n",
       "    rhw                        (time, plm) float32 ...\n",
       "    ri_turb                    (time, plm) float32 ...\n",
       "    shflx                      (time) float32 ...\n",
       "    ssp                        (time) float32 ...\n",
       "    swdf                       (time) float32 ...\n",
       "    swdp                       (time, plm) float32 ...\n",
       "    swds                       (time) float32 ...\n",
       "    swup                       (time, plm) float32 ...\n",
       "    swus                       (time) float32 ...\n",
       "    t                          (time, plm) float32 255.47481 ... 219.98639\n",
       "    tau_mc                     (time, plm) float32 ...\n",
       "    tau_ss                     (time, plm) float32 ...\n",
       "    th                         (time, plm) float32 ...\n",
       "    u                          (time, plm) float32 ...\n",
       "    ustar                      (time) float32 ...\n",
       "    v                          (time, plm) float32 ...\n",
       "    z                          (time, plm) float32 191.78166 ... 58659.72\n",
       "    conv_frac_subcolumns_cl    (subcolumn, time, plm) bool False False ... False\n",
       "    conv_frac_subcolumns_ci    (subcolumn, time, plm) bool False False ... False\n",
       "    conv_frac_subcolumns_pl    (subcolumn, time, plm) bool False False ... False\n",
       "    conv_frac_subcolumns_pi    (subcolumn, time, plm) bool False False ... False\n",
       "    strat_frac_subcolumns_cl   (subcolumn, time, plm) bool False False ... False\n",
       "    strat_frac_subcolumns_ci   (subcolumn, time, plm) bool False False ... False\n",
       "    strat_frac_subcolumns_pl   (subcolumn, time, plm) bool False False ... False\n",
       "    strat_frac_subcolumns_pi   (subcolumn, time, plm) bool False False ... False\n",
       "    strat_q_subcolumns_cl      (subcolumn, time, plm) float32 0.0 0.0 ... 0.0\n",
       "    strat_n_subcolumns_cl      (subcolumn, time, plm) float32 0.0 0.0 ... 0.0\n",
       "    conv_q_subcolumns_cl       (subcolumn, time, plm) float32 0.0 0.0 ... 0.0\n",
       "    strat_q_subcolumns_ci      (subcolumn, time, plm) float32 0.0 0.0 ... 0.0\n",
       "    strat_n_subcolumns_ci      (subcolumn, time, plm) float32 0.0 0.0 ... 0.0\n",
       "    conv_q_subcolumns_ci       (subcolumn, time, plm) float32 0.0 0.0 ... 0.0\n",
       "    strat_q_subcolumns_pl      (subcolumn, time, plm) float32 0.0 0.0 ... 0.0\n",
       "    strat_n_subcolumns_pl      (subcolumn, time, plm) float32 0.0 0.0 ... 0.0\n",
       "    conv_q_subcolumns_pl       (subcolumn, time, plm) float32 0.0 0.0 ... 0.0\n",
       "    strat_q_subcolumns_pi      (subcolumn, time, plm) float32 0.0 0.0 ... 0.0\n",
       "    strat_n_subcolumns_pi      (subcolumn, time, plm) float32 0.0 0.0 ... 0.0\n",
       "    conv_q_subcolumns_pi       (subcolumn, time, plm) float32 0.0 0.0 ... 0.0\n",
       "    sub_col_Ze_tot_strat       (subcolumn, time, plm) float64 nan nan ... nan\n",
       "    sub_col_Vd_tot_strat       (subcolumn, time, plm) float64 nan nan ... nan\n",
       "    sub_col_sigma_d_tot_strat  (subcolumn, time, plm) float64 nan nan ... nan\n",
       "    sub_col_Ze_pi_strat        (subcolumn, time, plm) float64 -inf -inf ... -inf\n",
       "    sub_col_Vd_pi_strat        (subcolumn, time, plm) float64 nan nan ... nan\n",
       "    sub_col_sigma_d_pi_strat   (subcolumn, time, plm) float64 nan nan ... nan\n",
       "    mu                         (subcolumn, time, plm) float64 12.58 ... 12.58\n",
       "    lambda                     (subcolumn, time, plm) float64 nan nan ... nan\n",
       "    N_0                        (subcolumn, time, plm) float64 nan nan ... nan\n",
       "    sub_col_Ze_pl_strat        (subcolumn, time, plm) float64 -inf -inf ... -inf\n",
       "    sub_col_Vd_pl_strat        (subcolumn, time, plm) float64 nan nan ... nan\n",
       "    sub_col_sigma_d_pl_strat   (subcolumn, time, plm) float64 nan nan ... nan\n",
       "    sub_col_Ze_ci_strat        (subcolumn, time, plm) float64 -inf -inf ... -inf\n",
       "    sub_col_Vd_ci_strat        (subcolumn, time, plm) float64 nan nan ... nan\n",
       "    sub_col_sigma_d_ci_strat   (subcolumn, time, plm) float64 nan nan ... nan\n",
       "    sub_col_Ze_cl_strat        (subcolumn, time, plm) float64 -inf -inf ... -inf\n",
       "    sub_col_Vd_cl_strat        (subcolumn, time, plm) float64 nan nan ... nan\n",
       "    sub_col_sigma_d_cl_strat   (subcolumn, time, plm) float64 nan nan ... nan\n",
       "    kappa_wv                   (time, plm) float64 1.2e-06 1.2e-06 ... 1.2e-06\n",
       "    kappa_o2                   (time, plm) float32 0.019597711 ... 1.1832672e-09\n",
       "    kappa_att                  (time, plm) float64 0.0196 0.01937 ... 1.201e-06\n",
       "    sub_col_Ze_att_tot_strat   (subcolumn, time, plm) float64 nan nan ... nan\n",
       "    Ze                         (time, plm) float32 -inf -inf -inf ... -inf -inf\n",
       "    sub_col_Ze_cl_conv         (time, plm) float32 -inf -inf -inf ... -inf -inf\n",
       "    sub_col_Ze_tot_conv        (time, plm) float32 -inf -inf -inf ... -inf -inf\n",
       "    sub_col_Ze_ci_conv         (time, plm) float32 -inf -inf -inf ... -inf -inf\n",
       "    sub_col_Ze_pl_conv         (time, plm) float32 -inf -inf -inf ... -inf -inf\n",
       "    sub_col_Ze_pi_conv         (time, plm) float32 -inf -inf -inf ... -inf -inf\n",
       "    sub_col_Ze_att_tot_conv    (time, plm) float64 -inf -inf -inf ... -inf -inf\n",
       "Attributes:\n",
       "    xlabel:                     SCM_AWR_linft_BT0_unNa_noaer SCM_AWARE (M-PAC...\n",
       "    history:                    Fri Sep  6 17:21:45 2019: ncks -A allsteps.si...\n",
       "    history_of_appended_files:  Fri Sep  6 17:21:45 2019: Appended file allst...\n",
       "    NCO:                        4.6.7"
      ]
     },
     "execution_count": 7,
     "metadata": {},
     "output_type": "execute_result"
    }
   ],
   "source": [
    "my_model.ds"
   ]
  },
  {
   "cell_type": "code",
   "execution_count": null,
   "metadata": {},
   "outputs": [],
   "source": [
    "HSRL.ds.od.T.plot(vmin=0, vmax=10, cmap='act_HomeyerRainbow')"
   ]
  },
  {
   "cell_type": "code",
   "execution_count": null,
   "metadata": {},
   "outputs": [],
   "source": [
    "[x for x in my_model.ds.variables.keys()]"
   ]
  },
  {
   "cell_type": "code",
   "execution_count": 9,
   "metadata": {},
   "outputs": [
    {
     "data": {
      "image/png": "[encoded data removed]",
      "text/plain": [
       "<Figure size 1080x720 with 16 Axes>"
      ]
     },
     "metadata": {
      "needs_background": "light"
     },
     "output_type": "display_data"
    }
   ],
   "source": [
    "fig, ax = plt.subplots(2, 4, figsize=(15,10))\n",
    "for i in range(2):\n",
    "    for j in range(4):\n",
    "        my_model.ds[\"sub_col_alpha_p_cl_strat\"].sel(subcolumn=i*4+j).T.plot(ax=ax[i,j],\n",
    "                                                     cbar_kwargs={'label': 'Optical depth'},\n",
    "                                                     cmap='act_HomeyerRainbow', vmin=0, vmax=1)\n",
    "        ax[i,j].invert_yaxis()\n",
    "        ax[i,j].set_ylabel('Pressure [hPa]')"
   ]
  },
  {
   "cell_type": "code",
   "execution_count": null,
   "metadata": {},
   "outputs": [],
   "source": [
    "my_model.ds[\"sub_col_OD_cl_strat\"]"
   ]
  },
  {
   "cell_type": "code",
   "execution_count": null,
   "metadata": {},
   "outputs": [],
   "source": [
    "my_model.ds[\"sub_col_OD_cl_strat\"].values"
   ]
  },
  {
   "cell_type": "code",
   "execution_count": null,
   "metadata": {},
   "outputs": [],
   "source": [
    "fits_ds[\"N_0\"]"
   ]
  },
  {
   "cell_type": "code",
   "execution_count": null,
   "metadata": {},
   "outputs": [],
   "source": [
    "1*1e6/1e3"
   ]
  },
  {
   "cell_type": "code",
   "execution_count": null,
   "metadata": {},
   "outputs": [],
   "source": [
    "my_model.ds[\"strat_q_subcolumns_ci\"].sel(subcolumn=2).plot()"
   ]
  },
  {
   "cell_type": "code",
   "execution_count": null,
   "metadata": {},
   "outputs": [],
   "source": [
    "my_model.ds[\"strat_q_subcolumns_pl\"].isel(subcolumn=0).plot()"
   ]
  },
  {
   "cell_type": "code",
   "execution_count": null,
   "metadata": {},
   "outputs": [],
   "source": [
    "my_model.ds[\"sub_col_Ze_pl_strat\"].sel(subcolumn=1, plm=800, method='nearest')"
   ]
  },
  {
   "cell_type": "code",
   "execution_count": null,
   "metadata": {},
   "outputs": [],
   "source": [
    "my_model.ds[\"sub_col_Ze_cl_strat\"].sel(subcolumn=1).min()"
   ]
  },
  {
   "cell_type": "code",
   "execution_count": null,
   "metadata": {},
   "outputs": [],
   "source": [
    "my_fits = emc2.simulator.psd.calc_mu_lambda(my_model, \"cl\", calc_dispersion=False)"
   ]
  },
  {
   "cell_type": "code",
   "execution_count": null,
   "metadata": {},
   "outputs": [],
   "source": [
    "my_model.ds[my_model.N_field[\"cl\"]]"
   ]
  },
  {
   "cell_type": "code",
   "execution_count": null,
   "metadata": {},
   "outputs": [],
   "source": [
    "mus = 0.0005714 * (my_model.ds[my_model.N_field[\"cl\"]]) + 0.2714\n",
    "mus = mus.where(mus < 0.5777, 0.5777)\n",
    "mus = mus.where(mus > 0.2714)\n",
    "mus = 1 / mus**2 - 1\n",
    "mus.plot()\n",
    "print(mus.min())"
   ]
  },
  {
   "cell_type": "code",
   "execution_count": null,
   "metadata": {},
   "outputs": [],
   "source": [
    "d = np.linspace(0.0001, 0.01, 100)\n",
    "plt.plot(d, np.log10(1e30*d**(0)*np.exp(-60*d)))"
   ]
  },
  {
   "cell_type": "code",
   "execution_count": null,
   "metadata": {},
   "outputs": [],
   "source": [
    "my_fits.ds[\"mu\"].sel(plm=850, method='nearest')"
   ]
  },
  {
   "cell_type": "code",
   "execution_count": null,
   "metadata": {},
   "outputs": [],
   "source": [
    "my_fits.ds[\"N_0\"].sel(plm=900, method='nearest').values"
   ]
  },
  {
   "cell_type": "code",
   "execution_count": null,
   "metadata": {},
   "outputs": [],
   "source": [
    "from scipy.special import gamma\n",
    "\n",
    "c = np.pi * my_fits.Rho_hyd[\"cl\"].magnitude / 6.0\n",
    "d = 3.0\n",
    "fit_lambda = ((c * my_fits.ds[my_fits.N_field[\"cl\"]].astype('float64') * gamma(mus + d + 1)) / \\\n",
    "                  (my_fits.ds[my_fits.q_names_stratiform[\"cl\"]].astype('float64') * gamma(mus + 1)))**(1 / d)\n",
    "print(fit_lambda)"
   ]
  },
  {
   "cell_type": "code",
   "execution_count": null,
   "metadata": {},
   "outputs": [],
   "source": [
    "1e30*(0.1)**(11)*np.exp(-60*0.1)"
   ]
  },
  {
   "cell_type": "code",
   "execution_count": null,
   "metadata": {},
   "outputs": [],
   "source": [
    "fit_lambda.where(my_fits.ds[my_fits.q_names_stratiform[\"cl\"]] > 0).plot(vmax=200)"
   ]
  },
  {
   "cell_type": "code",
   "execution_count": null,
   "metadata": {},
   "outputs": [],
   "source": [
    "my_fits.ds[my_fits.q_names_stratiform[\"cl\"]].plot()"
   ]
  },
  {
   "cell_type": "code",
   "execution_count": null,
   "metadata": {},
   "outputs": [],
   "source": [
    "N_0 = my_fits.ds[my_fits.N_field[\"cl\"]] * fit_lambda.astype('float64')**(mus + 1) / gamma(mus)\n",
    "N_0.plot()"
   ]
  },
  {
   "cell_type": "code",
   "execution_count": null,
   "metadata": {},
   "outputs": [],
   "source": [
    "500*(800)**(12)/gamma(11)"
   ]
  },
  {
   "cell_type": "code",
   "execution_count": null,
   "metadata": {},
   "outputs": [],
   "source": [
    "1/0.09"
   ]
  },
  {
   "cell_type": "code",
   "execution_count": null,
   "metadata": {},
   "outputs": [],
   "source": [
    "fit_lambda.dtype"
   ]
  },
  {
   "cell_type": "code",
   "execution_count": null,
   "metadata": {},
   "outputs": [],
   "source": []
  }
 ],
 "metadata": {
  "kernelspec": {
   "display_name": "Python 3",
   "language": "python",
   "name": "python3"
  },
  "language_info": {
   "codemirror_mode": {
    "name": "ipython",
    "version": 3
   },
   "file_extension": ".py",
   "mimetype": "text/x-python",
   "name": "python",
   "nbconvert_exporter": "python",
   "pygments_lexer": "ipython3",
   "version": "3.7.5"
  }
 },
 "nbformat": 4,
 "nbformat_minor": 2
}
